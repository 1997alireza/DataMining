{
 "cells": [
  {
   "cell_type": "markdown",
   "metadata": {},
   "source": [
    "# Question 1"
   ]
  },
  {
   "cell_type": "code",
   "execution_count": 1,
   "metadata": {},
   "outputs": [],
   "source": [
    "from p1_association_rules import *\n",
    "from tools import *"
   ]
  },
  {
   "cell_type": "markdown",
   "metadata": {},
   "source": [
    "## Part 1"
   ]
  },
  {
   "cell_type": "code",
   "execution_count": 2,
   "metadata": {},
   "outputs": [],
   "source": [
    "transactions = [\n",
    "    ['a', 'b', 'd', 'g'],\n",
    "    ['b', 'd', 'e'],\n",
    "    ['a', 'b', 'c', 'e', 'f'],\n",
    "    ['b', 'd', 'e', 'g'],\n",
    "    ['a', 'b', 'c', 'e', 'f'],\n",
    "    ['b', 'e', 'g'],\n",
    "    ['a', 'c', 'd', 'e'],\n",
    "    ['b', 'e'],\n",
    "    ['a', 'b', 'e', 'f'],\n",
    "    ['a', 'c', 'd', 'e']\n",
    "]\n",
    "\n",
    "a_priori_solver = APriori(transactions)\n",
    "a_priori_solver.extract_frequent_itemsets()"
   ]
  },
  {
   "cell_type": "markdown",
   "metadata": {},
   "source": [
    "### a) frequent 1-itemsets"
   ]
  },
  {
   "cell_type": "code",
   "execution_count": 3,
   "metadata": {},
   "outputs": [
    {
     "name": "stdout",
     "output_type": "stream",
     "text": [
      "[{'d'}, {'a'}, {'b'}, {'c'}, {'e'}]\n"
     ]
    }
   ],
   "source": [
    "print([x.items for x in a_priori_solver.frequent_itemsets[0]])"
   ]
  },
  {
   "cell_type": "markdown",
   "metadata": {},
   "source": [
    "### b) frequent 2-itemsets"
   ]
  },
  {
   "cell_type": "code",
   "execution_count": 4,
   "metadata": {},
   "outputs": [
    {
     "name": "stdout",
     "output_type": "stream",
     "text": [
      "[{'e', 'd'}, {'b', 'a'}, {'c', 'a'}, {'e', 'a'}, {'e', 'b'}, {'e', 'c'}]\n"
     ]
    }
   ],
   "source": [
    "print([x.items for x in a_priori_solver.frequent_itemsets[1]])"
   ]
  },
  {
   "cell_type": "markdown",
   "metadata": {},
   "source": [
    "### c)"
   ]
  },
  {
   "cell_type": "code",
   "execution_count": 5,
   "metadata": {},
   "outputs": [
    {
     "name": "stdout",
     "output_type": "stream",
     "text": [
      "ItemSet(items={'e', 'b'}, support=7)\n"
     ]
    }
   ],
   "source": [
    "two_itemsets = a_priori_solver.frequent_itemsets[1]\n",
    "for itemset in two_itemsets:\n",
    "    if itemset.support >= 7:\n",
    "        print(itemset)"
   ]
  },
  {
   "cell_type": "markdown",
   "metadata": {},
   "source": [
    "### d)"
   ]
  },
  {
   "cell_type": "code",
   "execution_count": 6,
   "metadata": {},
   "outputs": [
    {
     "name": "stdout",
     "output_type": "stream",
     "text": [
      "AssociationRule(left_items={'c'}, right_items={'a'}, support=4, confidence=1.0)\n",
      "AssociationRule(left_items={'c'}, right_items={'e'}, support=4, confidence=1.0)\n",
      "AssociationRule(left_items={'c', 'a'}, right_items={'e'}, support=4, confidence=1.0)\n",
      "AssociationRule(left_items={'e', 'c'}, right_items={'a'}, support=4, confidence=1.0)\n",
      "AssociationRule(left_items={'c'}, right_items={'e', 'a'}, support=4, confidence=1.0)\n"
     ]
    }
   ],
   "source": [
    "print(*a_priori_solver.extract_association_rules(1.0), sep='\\n')"
   ]
  },
  {
   "cell_type": "markdown",
   "metadata": {},
   "source": [
    "### e)"
   ]
  },
  {
   "cell_type": "code",
   "execution_count": 7,
   "metadata": {},
   "outputs": [
    {
     "name": "stdout",
     "output_type": "stream",
     "text": [
      "Confidence ({B} => {E}) = 0.875\n"
     ]
    }
   ],
   "source": [
    "rules = a_priori_solver.extract_association_rules(0)\n",
    "for r in rules:\n",
    "    if {'b'} == r.left_items and {'e'} == r.right_items:\n",
    "        print('Confidence ({B} => {E}) =', r.confidence)\n",
    "        break"
   ]
  },
  {
   "cell_type": "markdown",
   "metadata": {},
   "source": [
    "## Part 2"
   ]
  },
  {
   "cell_type": "code",
   "execution_count": 8,
   "metadata": {},
   "outputs": [],
   "source": [
    "transactions = [\n",
    "    ['a', 'c', 'd'],\n",
    "    ['b', 'c', 'e'],\n",
    "    ['a', 'b', 'c', 'e'],\n",
    "    ['b', 'e']\n",
    "]\n",
    "\n",
    "a_priori_solver = APriori(transactions, support_threshold=2)\n",
    "a_priori_solver.extract_frequent_itemsets()"
   ]
  },
  {
   "cell_type": "markdown",
   "metadata": {},
   "source": [
    "### a)"
   ]
  },
  {
   "cell_type": "code",
   "execution_count": 9,
   "metadata": {},
   "outputs": [
    {
     "name": "stdout",
     "output_type": "stream",
     "text": [
      "[{'a'}, {'b'}, {'c'}, {'e'}]\n",
      "[{'c', 'a'}, {'b', 'c'}, {'e', 'b'}, {'e', 'c'}]\n",
      "[{'e', 'b', 'c'}]\n"
     ]
    }
   ],
   "source": [
    "print_itemsets(a_priori_solver.frequent_itemsets)"
   ]
  },
  {
   "cell_type": "markdown",
   "metadata": {},
   "source": [
    "### b)"
   ]
  },
  {
   "cell_type": "code",
   "execution_count": 10,
   "metadata": {},
   "outputs": [
    {
     "name": "stdout",
     "output_type": "stream",
     "text": [
      "14\n"
     ]
    }
   ],
   "source": [
    "print(len(a_priori_solver.extract_association_rules(.65)))"
   ]
  },
  {
   "cell_type": "markdown",
   "metadata": {},
   "source": [
    "### c)"
   ]
  },
  {
   "cell_type": "code",
   "execution_count": 11,
   "metadata": {},
   "outputs": [
    {
     "name": "stdout",
     "output_type": "stream",
     "text": [
      "AssociationRule(left_items={'a'}, right_items={'c'}, support=2, confidence=1.0)\n",
      "AssociationRule(left_items={'b'}, right_items={'e'}, support=3, confidence=1.0)\n",
      "AssociationRule(left_items={'e'}, right_items={'b'}, support=3, confidence=1.0)\n",
      "AssociationRule(left_items={'b', 'c'}, right_items={'e'}, support=2, confidence=1.0)\n",
      "AssociationRule(left_items={'e', 'c'}, right_items={'b'}, support=2, confidence=1.0)\n"
     ]
    }
   ],
   "source": [
    "print(*a_priori_solver.extract_association_rules(0.8), sep='\\n')"
   ]
  },
  {
   "cell_type": "markdown",
   "metadata": {},
   "source": [
    "### d)"
   ]
  },
  {
   "cell_type": "code",
   "execution_count": 12,
   "metadata": {},
   "outputs": [
    {
     "name": "stdout",
     "output_type": "stream",
     "text": [
      "Confidence ({E} => {C}) = 0.6666666666666666\n"
     ]
    }
   ],
   "source": [
    "rules = a_priori_solver.extract_association_rules(0)\n",
    "for r in rules:\n",
    "    if {'e'} == r.left_items and {'c'} == r.right_items:\n",
    "        print('Confidence ({E} => {C}) =', r.confidence)"
   ]
  },
  {
   "cell_type": "markdown",
   "metadata": {},
   "source": [
    "### e)"
   ]
  },
  {
   "cell_type": "code",
   "execution_count": 13,
   "metadata": {},
   "outputs": [
    {
     "name": "stdout",
     "output_type": "stream",
     "text": [
      "Support ({B} => {C}) = 2\n"
     ]
    }
   ],
   "source": [
    "for r in rules:\n",
    "    if {'b'} == r.left_items and {'c'} == r.right_items:\n",
    "        print('Support ({B} => {C}) =', r.support)"
   ]
  }
 ],
 "metadata": {
  "kernelspec": {
   "display_name": "Python 3",
   "language": "python",
   "name": "python3"
  },
  "language_info": {
   "codemirror_mode": {
    "name": "ipython",
    "version": 3
   },
   "file_extension": ".py",
   "mimetype": "text/x-python",
   "name": "python",
   "nbconvert_exporter": "python",
   "pygments_lexer": "ipython3",
   "version": "3.7.1"
  }
 },
 "nbformat": 4,
 "nbformat_minor": 1
}
